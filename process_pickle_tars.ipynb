{
 "cells": [
  {
   "cell_type": "code",
   "execution_count": null,
   "id": "0dc40220",
   "metadata": {},
   "outputs": [
    {
     "name": "stdout",
     "output_type": "stream",
     "text": [
      "  Found 891583 pickle files\n",
      "Moved 07_17_24_results.tar to processed_tars\n",
      "Removed 07_17_24_results.tar from source_tars.txt\n",
      "  Found 716921 pickle files\n",
      "Moved 08_08_24_results.tar to processed_tars\n",
      "Removed 08_08_24_results.tar from source_tars.txt\n",
      "  Found 1043749 pickle files\n",
      "Moved 07_24_24_results.tar to processed_tars\n",
      "Removed 07_24_24_results.tar from source_tars.txt\n"
     ]
    }
   ],
   "source": [
    "import os\n",
    "import shutil\n",
    "import pandas as pd\n",
    "import pickle\n",
    "import tarfile\n",
    "\n",
    "tar_path = \"source_tars\"\n",
    "csv_path = \"csv/detections_090225.csv\"\n",
    "tar_list_file = \"source_tars.txt\"\n",
    "processed_path = \"processed_tars\"\n",
    "\n",
    "tars = [f for f in os.listdir(tar_path) if f.endswith(\".tar\") or f.endswith(\".tar.gz\")]\n",
    "with open(tar_list_file, \"w\") as f:\n",
    "    f.write(\"\\n\".join(tars) + (\"\\n\" if tars else \"\"))\n",
    "\n",
    "with open(tar_list_file, \"r\") as f:\n",
    "    tar_list = [line.strip() for line in f if line.strip()]\n",
    "\n",
    "for tar_name in tar_list:\n",
    "    tar_file = os.path.join(tar_path, tar_name)\n",
    "    \n",
    "    try:\n",
    "        with tarfile.open(tar_file, \"r:*\") as tar:\n",
    "            pickle_members = [m for m in tar.getmembers() if m.name.endswith(\".pickle\")]\n",
    "            print(f\"  Found {len(pickle_members)} pickle files\")\n",
    "\n",
    "            rows = []\n",
    "\n",
    "            for member in pickle_members:\n",
    "                f = tar.extractfile(member)\n",
    "                if f is None:\n",
    "                    continue\n",
    "\n",
    "                try:\n",
    "                    data = pickle.load(f)\n",
    "                except Exception as e:\n",
    "                    continue\n",
    "                if isinstance(data, list) and len(data) == 0:\n",
    "                    continue\n",
    "\n",
    "                for obj_pred in data:\n",
    "                    bbox = obj_pred.bbox.to_xywh()\n",
    "                    score = obj_pred.score.value\n",
    "                    label = obj_pred.category.id\n",
    "                    fname = os.path.basename(member.name)\n",
    "                    stem = os.path.splitext(fname)[0]\n",
    "                    rows.append((stem, bbox, score, label))\n",
    "\n",
    "            df = pd.DataFrame(rows, columns=[\"filename\", \"bbox\", \"score\", \"label\"])\n",
    "            write_header = not os.path.exists(csv_path)\n",
    "            df.to_csv(csv_path, mode='a',  header=write_header, index=False)\n",
    "\n",
    "        shutil.move(tar_file, os.path.join(processed_path, tar_name))\n",
    "        print(f\"Moved {tar_name} to {processed_path}\")\n",
    "\n",
    "        with open(tar_list_file, \"r\") as f:\n",
    "            lines = [line.strip() for line in f if line.strip()]\n",
    "        lines = [line for line in lines if line != tar_name]\n",
    "        with open(tar_list_file, \"w\") as f:\n",
    "            f.write(\"\\n\".join(lines) + (\"\\n\" if lines else \"\"))\n",
    "        print(f\"Removed {tar_name} from {tar_list_file}\")\n",
    "\n",
    "    except Exception as e:\n",
    "        print(f\"[ERROR] Could not process {tar_file}: {e}\")\n"
   ]
  }
 ],
 "metadata": {
  "kernelspec": {
   "display_name": "yolonew",
   "language": "python",
   "name": "python3"
  },
  "language_info": {
   "codemirror_mode": {
    "name": "ipython",
    "version": 3
   },
   "file_extension": ".py",
   "mimetype": "text/x-python",
   "name": "python",
   "nbconvert_exporter": "python",
   "pygments_lexer": "ipython3",
   "version": "3.11.5"
  }
 },
 "nbformat": 4,
 "nbformat_minor": 5
}
