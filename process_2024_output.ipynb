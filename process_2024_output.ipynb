{
 "cells": [
  {
   "cell_type": "code",
   "execution_count": 1,
   "id": "3cfb743e",
   "metadata": {},
   "outputs": [],
   "source": [
    "import pandas as pd\n",
    "from pathlib import Path\n",
    "from datetime import date\n",
    "import os"
   ]
  },
  {
   "cell_type": "code",
   "execution_count": null,
   "id": "a576ec13",
   "metadata": {},
   "outputs": [
    {
     "data": {
      "application/vnd.microsoft.datawrangler.viewer.v0+json": {
       "columns": [
        {
         "name": "index",
         "rawType": "int64",
         "type": "integer"
        },
        {
         "name": "filename",
         "rawType": "object",
         "type": "string"
        },
        {
         "name": "num",
         "rawType": "int64",
         "type": "integer"
        },
        {
         "name": "download_date",
         "rawType": "object",
         "type": "string"
        },
        {
         "name": "download_date_iso",
         "rawType": "object",
         "type": "string"
        },
        {
         "name": "pi",
         "rawType": "object",
         "type": "string"
        }
       ],
       "ref": "dfe03d02-d58a-4ff4-b7ab-80cdafbe47f3",
       "rows": [
        [
         "0",
         "pi2_20240712_050157.jpg",
         "0",
         "07_17_24",
         "2024-07-17",
         "pi2"
        ],
        [
         "1",
         "pi2_20240712_050200.jpg",
         "0",
         "07_17_24",
         "2024-07-17",
         "pi2"
        ],
        [
         "2",
         "pi2_20240712_050202.jpg",
         "0",
         "07_17_24",
         "2024-07-17",
         "pi2"
        ],
        [
         "3",
         "pi2_20240712_050204.jpg",
         "0",
         "07_17_24",
         "2024-07-17",
         "pi2"
        ],
        [
         "4",
         "pi2_20240712_050206.jpg",
         "0",
         "07_17_24",
         "2024-07-17",
         "pi2"
        ],
        [
         "5",
         "pi2_20240712_050208.jpg",
         "0",
         "07_17_24",
         "2024-07-17",
         "pi2"
        ],
        [
         "6",
         "pi2_20240712_050210.jpg",
         "0",
         "07_17_24",
         "2024-07-17",
         "pi2"
        ],
        [
         "7",
         "pi2_20240712_050212.jpg",
         "0",
         "07_17_24",
         "2024-07-17",
         "pi2"
        ],
        [
         "8",
         "pi2_20240712_050214.jpg",
         "0",
         "07_17_24",
         "2024-07-17",
         "pi2"
        ],
        [
         "9",
         "pi2_20240712_050216.jpg",
         "0",
         "07_17_24",
         "2024-07-17",
         "pi2"
        ],
        [
         "10",
         "pi2_20240712_050218.jpg",
         "0",
         "07_17_24",
         "2024-07-17",
         "pi2"
        ],
        [
         "11",
         "pi2_20240712_050220.jpg",
         "0",
         "07_17_24",
         "2024-07-17",
         "pi2"
        ],
        [
         "12",
         "pi2_20240712_050222.jpg",
         "0",
         "07_17_24",
         "2024-07-17",
         "pi2"
        ],
        [
         "13",
         "pi2_20240712_050224.jpg",
         "0",
         "07_17_24",
         "2024-07-17",
         "pi2"
        ],
        [
         "14",
         "pi2_20240712_050226.jpg",
         "0",
         "07_17_24",
         "2024-07-17",
         "pi2"
        ],
        [
         "15",
         "pi2_20240712_050229.jpg",
         "0",
         "07_17_24",
         "2024-07-17",
         "pi2"
        ],
        [
         "16",
         "pi2_20240712_050231.jpg",
         "0",
         "07_17_24",
         "2024-07-17",
         "pi2"
        ],
        [
         "17",
         "pi2_20240712_050233.jpg",
         "0",
         "07_17_24",
         "2024-07-17",
         "pi2"
        ],
        [
         "18",
         "pi2_20240712_050235.jpg",
         "0",
         "07_17_24",
         "2024-07-17",
         "pi2"
        ],
        [
         "19",
         "pi2_20240712_050237.jpg",
         "0",
         "07_17_24",
         "2024-07-17",
         "pi2"
        ],
        [
         "20",
         "pi2_20240712_050239.jpg",
         "0",
         "07_17_24",
         "2024-07-17",
         "pi2"
        ],
        [
         "21",
         "pi2_20240712_050241.jpg",
         "0",
         "07_17_24",
         "2024-07-17",
         "pi2"
        ],
        [
         "22",
         "pi2_20240712_050243.jpg",
         "0",
         "07_17_24",
         "2024-07-17",
         "pi2"
        ],
        [
         "23",
         "pi2_20240712_050245.jpg",
         "0",
         "07_17_24",
         "2024-07-17",
         "pi2"
        ],
        [
         "24",
         "pi2_20240712_050247.jpg",
         "0",
         "07_17_24",
         "2024-07-17",
         "pi2"
        ],
        [
         "25",
         "pi2_20240712_050249.jpg",
         "0",
         "07_17_24",
         "2024-07-17",
         "pi2"
        ],
        [
         "26",
         "pi2_20240712_050251.jpg",
         "0",
         "07_17_24",
         "2024-07-17",
         "pi2"
        ],
        [
         "27",
         "pi2_20240712_050253.jpg",
         "0",
         "07_17_24",
         "2024-07-17",
         "pi2"
        ],
        [
         "28",
         "pi2_20240712_050255.jpg",
         "0",
         "07_17_24",
         "2024-07-17",
         "pi2"
        ],
        [
         "29",
         "pi2_20240712_050257.jpg",
         "0",
         "07_17_24",
         "2024-07-17",
         "pi2"
        ],
        [
         "30",
         "pi2_20240712_050300.jpg",
         "0",
         "07_17_24",
         "2024-07-17",
         "pi2"
        ],
        [
         "31",
         "pi2_20240712_050302.jpg",
         "0",
         "07_17_24",
         "2024-07-17",
         "pi2"
        ],
        [
         "32",
         "pi2_20240712_050304.jpg",
         "0",
         "07_17_24",
         "2024-07-17",
         "pi2"
        ],
        [
         "33",
         "pi2_20240712_050306.jpg",
         "0",
         "07_17_24",
         "2024-07-17",
         "pi2"
        ],
        [
         "34",
         "pi2_20240712_050308.jpg",
         "0",
         "07_17_24",
         "2024-07-17",
         "pi2"
        ],
        [
         "35",
         "pi2_20240712_050310.jpg",
         "0",
         "07_17_24",
         "2024-07-17",
         "pi2"
        ],
        [
         "36",
         "pi2_20240712_050312.jpg",
         "0",
         "07_17_24",
         "2024-07-17",
         "pi2"
        ],
        [
         "37",
         "pi2_20240712_050314.jpg",
         "0",
         "07_17_24",
         "2024-07-17",
         "pi2"
        ],
        [
         "38",
         "pi2_20240712_050316.jpg",
         "0",
         "07_17_24",
         "2024-07-17",
         "pi2"
        ],
        [
         "39",
         "pi2_20240712_050318.jpg",
         "0",
         "07_17_24",
         "2024-07-17",
         "pi2"
        ],
        [
         "40",
         "pi2_20240712_050320.jpg",
         "0",
         "07_17_24",
         "2024-07-17",
         "pi2"
        ],
        [
         "41",
         "pi2_20240712_050322.jpg",
         "0",
         "07_17_24",
         "2024-07-17",
         "pi2"
        ],
        [
         "42",
         "pi2_20240712_050324.jpg",
         "0",
         "07_17_24",
         "2024-07-17",
         "pi2"
        ],
        [
         "43",
         "pi2_20240712_050326.jpg",
         "0",
         "07_17_24",
         "2024-07-17",
         "pi2"
        ],
        [
         "44",
         "pi2_20240712_050328.jpg",
         "0",
         "07_17_24",
         "2024-07-17",
         "pi2"
        ],
        [
         "45",
         "pi2_20240712_050331.jpg",
         "0",
         "07_17_24",
         "2024-07-17",
         "pi2"
        ],
        [
         "46",
         "pi2_20240712_050333.jpg",
         "0",
         "07_17_24",
         "2024-07-17",
         "pi2"
        ],
        [
         "47",
         "pi2_20240712_050335.jpg",
         "0",
         "07_17_24",
         "2024-07-17",
         "pi2"
        ],
        [
         "48",
         "pi2_20240712_050337.jpg",
         "0",
         "07_17_24",
         "2024-07-17",
         "pi2"
        ],
        [
         "49",
         "pi2_20240712_050339.jpg",
         "0",
         "07_17_24",
         "2024-07-17",
         "pi2"
        ]
       ],
       "shape": {
        "columns": 5,
        "rows": 18288030
       }
      },
      "text/html": [
       "<div>\n",
       "<style scoped>\n",
       "    .dataframe tbody tr th:only-of-type {\n",
       "        vertical-align: middle;\n",
       "    }\n",
       "\n",
       "    .dataframe tbody tr th {\n",
       "        vertical-align: top;\n",
       "    }\n",
       "\n",
       "    .dataframe thead th {\n",
       "        text-align: right;\n",
       "    }\n",
       "</style>\n",
       "<table border=\"1\" class=\"dataframe\">\n",
       "  <thead>\n",
       "    <tr style=\"text-align: right;\">\n",
       "      <th></th>\n",
       "      <th>filename</th>\n",
       "      <th>num</th>\n",
       "      <th>download_date</th>\n",
       "      <th>download_date_iso</th>\n",
       "      <th>pi</th>\n",
       "    </tr>\n",
       "  </thead>\n",
       "  <tbody>\n",
       "    <tr>\n",
       "      <th>0</th>\n",
       "      <td>pi2_20240712_050157.jpg</td>\n",
       "      <td>0</td>\n",
       "      <td>07_17_24</td>\n",
       "      <td>2024-07-17</td>\n",
       "      <td>pi2</td>\n",
       "    </tr>\n",
       "    <tr>\n",
       "      <th>1</th>\n",
       "      <td>pi2_20240712_050200.jpg</td>\n",
       "      <td>0</td>\n",
       "      <td>07_17_24</td>\n",
       "      <td>2024-07-17</td>\n",
       "      <td>pi2</td>\n",
       "    </tr>\n",
       "    <tr>\n",
       "      <th>2</th>\n",
       "      <td>pi2_20240712_050202.jpg</td>\n",
       "      <td>0</td>\n",
       "      <td>07_17_24</td>\n",
       "      <td>2024-07-17</td>\n",
       "      <td>pi2</td>\n",
       "    </tr>\n",
       "    <tr>\n",
       "      <th>3</th>\n",
       "      <td>pi2_20240712_050204.jpg</td>\n",
       "      <td>0</td>\n",
       "      <td>07_17_24</td>\n",
       "      <td>2024-07-17</td>\n",
       "      <td>pi2</td>\n",
       "    </tr>\n",
       "    <tr>\n",
       "      <th>4</th>\n",
       "      <td>pi2_20240712_050206.jpg</td>\n",
       "      <td>0</td>\n",
       "      <td>07_17_24</td>\n",
       "      <td>2024-07-17</td>\n",
       "      <td>pi2</td>\n",
       "    </tr>\n",
       "    <tr>\n",
       "      <th>...</th>\n",
       "      <td>...</td>\n",
       "      <td>...</td>\n",
       "      <td>...</td>\n",
       "      <td>...</td>\n",
       "      <td>...</td>\n",
       "    </tr>\n",
       "    <tr>\n",
       "      <th>18288025</th>\n",
       "      <td>pi6_20240815_124624.jpg</td>\n",
       "      <td>0</td>\n",
       "      <td>out_081624</td>\n",
       "      <td>2024-08-16</td>\n",
       "      <td>pi6</td>\n",
       "    </tr>\n",
       "    <tr>\n",
       "      <th>18288026</th>\n",
       "      <td>pi6_20240815_124625.jpg</td>\n",
       "      <td>0</td>\n",
       "      <td>out_081624</td>\n",
       "      <td>2024-08-16</td>\n",
       "      <td>pi6</td>\n",
       "    </tr>\n",
       "    <tr>\n",
       "      <th>18288027</th>\n",
       "      <td>pi6_20240815_124627.jpg</td>\n",
       "      <td>0</td>\n",
       "      <td>out_081624</td>\n",
       "      <td>2024-08-16</td>\n",
       "      <td>pi6</td>\n",
       "    </tr>\n",
       "    <tr>\n",
       "      <th>18288028</th>\n",
       "      <td>pi6_20240815_124628.jpg</td>\n",
       "      <td>0</td>\n",
       "      <td>out_081624</td>\n",
       "      <td>2024-08-16</td>\n",
       "      <td>pi6</td>\n",
       "    </tr>\n",
       "    <tr>\n",
       "      <th>18288029</th>\n",
       "      <td>pi6_20240815_124629.jpg</td>\n",
       "      <td>0</td>\n",
       "      <td>out_081624</td>\n",
       "      <td>2024-08-16</td>\n",
       "      <td>pi6</td>\n",
       "    </tr>\n",
       "  </tbody>\n",
       "</table>\n",
       "<p>18288030 rows × 5 columns</p>\n",
       "</div>"
      ],
      "text/plain": [
       "                         filename  num download_date download_date_iso   pi\n",
       "0         pi2_20240712_050157.jpg    0      07_17_24        2024-07-17  pi2\n",
       "1         pi2_20240712_050200.jpg    0      07_17_24        2024-07-17  pi2\n",
       "2         pi2_20240712_050202.jpg    0      07_17_24        2024-07-17  pi2\n",
       "3         pi2_20240712_050204.jpg    0      07_17_24        2024-07-17  pi2\n",
       "4         pi2_20240712_050206.jpg    0      07_17_24        2024-07-17  pi2\n",
       "...                           ...  ...           ...               ...  ...\n",
       "18288025  pi6_20240815_124624.jpg    0    out_081624        2024-08-16  pi6\n",
       "18288026  pi6_20240815_124625.jpg    0    out_081624        2024-08-16  pi6\n",
       "18288027  pi6_20240815_124627.jpg    0    out_081624        2024-08-16  pi6\n",
       "18288028  pi6_20240815_124628.jpg    0    out_081624        2024-08-16  pi6\n",
       "18288029  pi6_20240815_124629.jpg    0    out_081624        2024-08-16  pi6\n",
       "\n",
       "[18288030 rows x 5 columns]"
      ]
     },
     "execution_count": 2,
     "metadata": {},
     "output_type": "execute_result"
    }
   ],
   "source": [
    "root_dir = Path(\"/home/misha/data/bee_cam/2024_image_processing/full_run_done\")  \n",
    "\n",
    "\n",
    "def normalize_download_date(folder_name: str):\n",
    "    digits = \"\".join(ch for ch in folder_name if ch.isdigit())\n",
    "    if len(digits) != 6:\n",
    "        return None\n",
    "    mm, dd, yy = int(digits[:2]), int(digits[2:4]), int(digits[4:6])\n",
    "    yyyy = 2000 + yy\n",
    "    try:\n",
    "        return date(yyyy, mm, dd).isoformat()\n",
    "    except ValueError:\n",
    "        return None\n",
    "\n",
    "rows = []\n",
    "\n",
    "for txt_file in root_dir.rglob(\"detection_counts.txt\"):\n",
    "    try:\n",
    "        download_date_folder = txt_file.parents[3].name  \n",
    "        pi_folder = txt_file.parents[2].name             \n",
    "    except IndexError:\n",
    "        continue\n",
    "\n",
    "    norm_date = normalize_download_date(download_date_folder)\n",
    "\n",
    "    with open(txt_file, \"r\") as f:\n",
    "        for line in f:\n",
    "            line = line.strip()\n",
    "            if not line or \":\" not in line:\n",
    "                continue\n",
    "            fname, num_str = line.split(\":\", 1)\n",
    "            fname = fname.strip()\n",
    "            num = int(float(num_str.strip()))  \n",
    "            rows.append({\n",
    "                \"filename\": fname,\n",
    "                \"num\": num,\n",
    "                \"download_date\": download_date_folder,    \n",
    "                \"download_date_iso\": norm_date,            \n",
    "                \"pi\": pi_folder\n",
    "            })\n",
    "\n",
    "df = pd.DataFrame(rows)\n",
    "df"
   ]
  },
  {
   "cell_type": "code",
   "execution_count": 3,
   "id": "60c326c6",
   "metadata": {},
   "outputs": [
    {
     "data": {
      "text/plain": [
       "['2024-07-17',\n",
       " '2024-07-22',\n",
       " '2024-07-24',\n",
       " '2024-07-26',\n",
       " '2024-07-28',\n",
       " '2024-07-30',\n",
       " '2024-08-01',\n",
       " '2024-08-02',\n",
       " '2024-08-06',\n",
       " '2024-08-08',\n",
       " '2024-08-10',\n",
       " '2024-08-12',\n",
       " '2024-08-16',\n",
       " '2024-08-20',\n",
       " '2024-08-23',\n",
       " '2024-08-26',\n",
       " '2024-08-28',\n",
       " '2024-09-04',\n",
       " '2024-09-09',\n",
       " '2024-09-11']"
      ]
     },
     "execution_count": 3,
     "metadata": {},
     "output_type": "execute_result"
    }
   ],
   "source": [
    "sorted(df['download_date_iso'].unique().tolist())"
   ]
  },
  {
   "cell_type": "code",
   "execution_count": 6,
   "id": "65f47311",
   "metadata": {},
   "outputs": [],
   "source": [
    "all_detections = df[df['num']>0].sort_values(['download_date_iso', 'pi']).reset_index(drop=True)\n",
    "all_detections.to_csv('csv/2024_detections.csv')"
   ]
  }
 ],
 "metadata": {
  "kernelspec": {
   "display_name": "yolonew",
   "language": "python",
   "name": "python3"
  },
  "language_info": {
   "codemirror_mode": {
    "name": "ipython",
    "version": 3
   },
   "file_extension": ".py",
   "mimetype": "text/x-python",
   "name": "python",
   "nbconvert_exporter": "python",
   "pygments_lexer": "ipython3",
   "version": "3.11.5"
  }
 },
 "nbformat": 4,
 "nbformat_minor": 5
}
